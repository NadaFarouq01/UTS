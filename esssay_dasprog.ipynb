{
 "cells": [
  {
   "cell_type": "code",
   "execution_count": 1,
   "id": "e47fa939",
   "metadata": {},
   "outputs": [
    {
     "name": "stdout",
     "output_type": "stream",
     "text": [
      "Nada01@gmail.com\n"
     ]
    },
    {
     "data": {
      "text/plain": [
       "True"
      ]
     },
     "execution_count": 1,
     "metadata": {},
     "output_type": "execute_result"
    }
   ],
   "source": [
    "#1\n",
    "\n",
    "email = input('')\n",
    "valid = r'gmail.com'\n",
    "valid in email"
   ]
  },
  {
   "cell_type": "code",
   "execution_count": 2,
   "id": "dc5f27f8",
   "metadata": {},
   "outputs": [
    {
     "name": "stdout",
     "output_type": "stream",
     "text": [
      "moh.nada_ti22@nusaputra.ac.id\n"
     ]
    },
    {
     "data": {
      "text/plain": [
       "False"
      ]
     },
     "execution_count": 2,
     "metadata": {},
     "output_type": "execute_result"
    }
   ],
   "source": [
    "email = input('')\n",
    "valid = r'gmail.com'\n",
    "valid in email"
   ]
  },
  {
   "cell_type": "code",
   "execution_count": 6,
   "id": "4f878474",
   "metadata": {},
   "outputs": [
    {
     "name": "stdout",
     "output_type": "stream",
     "text": [
      "Masukan kalimat : BELAJAR Pemograman Python Sangat Mudah sekali\n",
      "B374J4R P3mogr4m4n Python 54ng4t Mud4h 53k47i\n"
     ]
    }
   ],
   "source": [
    "#2\n",
    "\n",
    "kalimat = input('Masukan kalimat : ')\n",
    "i = 0\n",
    "kata = ''\n",
    "for i in range (len(kalimat)):\n",
    "    if kalimat[i] == 'a' or kalimat[i] == 'A':\n",
    "        kata = kata + '4'\n",
    "    elif kalimat[i]== 'e' or kalimat[i]==  'E':\n",
    "        kata = kata + '3'\n",
    "    elif kalimat[i]== 'l' or kalimat[i]== 'L':\n",
    "        kata = kata + '7'\n",
    "    elif kalimat[i]== 's' or kalimat[i]== 'S':\n",
    "        kata = kata + '5'\n",
    "    else:\n",
    "        kata = kata + kalimat[i]\n",
    "print(kata)"
   ]
  }
 ],
 "metadata": {
  "kernelspec": {
   "display_name": "Python 3 (ipykernel)",
   "language": "python",
   "name": "python3"
  },
  "language_info": {
   "codemirror_mode": {
    "name": "ipython",
    "version": 3
   },
   "file_extension": ".py",
   "mimetype": "text/x-python",
   "name": "python",
   "nbconvert_exporter": "python",
   "pygments_lexer": "ipython3",
   "version": "3.9.12"
  }
 },
 "nbformat": 4,
 "nbformat_minor": 5
}
